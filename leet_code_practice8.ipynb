{
 "cells": [
  {
   "cell_type": "markdown",
   "id": "f5b61735",
   "metadata": {},
   "source": [
    "#  Write a function to find the longest common prefix string amongst an array of strings.\n",
    "\n",
    "If there is no common prefix, return an empty string \"\".\n",
    "\n",
    " \n",
    "\n",
    "Example 1:\n",
    "\n",
    "Input: strs = [\"flower\",\"flow\",\"flight\"]\n",
    "\n",
    "Output: \"fl\""
   ]
  },
  {
   "cell_type": "code",
   "execution_count": 1,
   "id": "4d7732d7",
   "metadata": {},
   "outputs": [
    {
     "name": "stdout",
     "output_type": "stream",
     "text": [
      "fl is the longest prefix\n"
     ]
    }
   ],
   "source": [
    "def longest_common_prefix(strs: list[str]) -> str:\n",
    "    final_str = \"\"\n",
    "    for i in range(len(strs[0])):\n",
    "        for s in strs[1:]:\n",
    "            if i == len(s) or strs[0][i] != s[i]:\n",
    "                return final_str\n",
    "        final_str += strs[0][i]\n",
    "\n",
    "    return final_str\n",
    "\n",
    "user_input = [\"flower\",\"flow\",\"flight\"]\n",
    "result = longest_common_prefix(user_input)\n",
    "print(f\"{result} is the longest prefix\")\n"
   ]
  },
  {
   "cell_type": "markdown",
   "id": "5c517836",
   "metadata": {},
   "source": [
    "# Q2. Given an array nums of size n, return the majority element.\n",
    "\n",
    "The majority element is the element that appears more than ⌊n / 2⌋ times. You may assume that the majority element always exists in the array.\n",
    "\n",
    " \n",
    "\n",
    "Example 1:\n",
    "\n",
    "Input: nums = [3,2,3]\n",
    "\n",
    "Output: 3"
   ]
  },
  {
   "cell_type": "code",
   "execution_count": 2,
   "id": "2baea171",
   "metadata": {},
   "outputs": [
    {
     "name": "stdout",
     "output_type": "stream",
     "text": [
      "3\n"
     ]
    }
   ],
   "source": [
    "def majority_element(nums):\n",
    "    n = len(nums)\n",
    "    count = {}\n",
    "\n",
    "    for num in nums:\n",
    "        count[num] = count.get(num, 0) + 1\n",
    "        if count[num] > n / 2:\n",
    "            return num\n",
    "\n",
    "    return -1\n",
    "\n",
    "# Correct way to call the function\n",
    "input_nums = [3, 2, 3]\n",
    "result = majority_element(input_nums)\n",
    "print(result)"
   ]
  },
  {
   "cell_type": "markdown",
   "id": "e756e89c",
   "metadata": {},
   "source": [
    "# Q2. In a project, you have a list of required skills req_skills, and a list of people. The ith person people[i] contains a list of skills that the person has.\n",
    "\n",
    "Consider a sufficient team: a set of people such that for every required skill in req_skills, there is at least one person in the team who has that skill. We can represent these teams by the index of each person.\n",
    "\n",
    "For example, team = [0, 1, 3] represents the people with skills people[0], people[1], and people[3].\n",
    "Return any sufficient team of the smallest possible size, represented by the index of each person. You may return the answer in any order.\n",
    "\n",
    "It is guaranteed an answer exists.\n",
    "\n",
    " \n",
    "\n",
    "Example 1:\n",
    "\n",
    "Input: req_skills = [\"java\",\"nodejs\",\"reactjs\"], people = [[\"java\"],[\"nodejs\"],[\"nodejs\",\"reactjs\"]]\n",
    "Output: [0,2]\n",
    "Example 2:\n",
    "\n",
    "Input: req_skills = [\"algorithms\",\"math\",\"java\",\"reactjs\",\"csharp\",\"aws\"], people = [[\"algorithms\",\"math\",\"java\"],[\"algorithms\",\"math\",\"reactjs\"],[\"java\",\"csharp\",\"aws\"],[\"reactjs\",\"csharp\"],[\"csharp\",\"math\"],[\"aws\",\"java\"]]\n",
    "Output: [1,2]"
   ]
  },
  {
   "cell_type": "code",
   "execution_count": 3,
   "id": "ca2c7cba",
   "metadata": {},
   "outputs": [
    {
     "name": "stdout",
     "output_type": "stream",
     "text": [
      "[1, 2]\n"
     ]
    }
   ],
   "source": [
    "def smallest_Sufficient_Team(req_skills, people):\n",
    "    n, m = len(req_skills), len(people)\n",
    "    skillMap = {skill: i for i, skill in enumerate(req_skills)}\n",
    "    dp = [None] * (1 << n)\n",
    "    dp[0] = []\n",
    "\n",
    "    skillPerson = [sum(1 << skillMap[skill] for skill in person) for person in people]\n",
    "\n",
    "    banned = [skillPerson[i] | skillPerson[j] == skillPerson[i] or skillPerson[i] | skillPerson[j] == skillPerson[j] for i in range(m) for j in range(i + 1, m)]\n",
    "\n",
    "    for i, is_banned in enumerate(banned):\n",
    "        if not is_banned:\n",
    "            curSkill = skillPerson[i]\n",
    "\n",
    "            for j, team in enumerate(dp):\n",
    "                if team is not None:\n",
    "                    comb = j | curSkill\n",
    "                    dp[comb] = team + [i] if dp[comb] is None or len(team) + 1 < len(dp[comb]) else dp[comb]\n",
    "\n",
    "    return dp[(1 << n) - 1]\n",
    "\n",
    "req_skills = [\"java\", \"python\", \"javascript\"]\n",
    "people = [[\"java\"], [\"java\", \"python\"], [\"python\", \"javascript\"]]\n",
    "final_result = smallest_Sufficient_Team(req_skills, people)\n",
    "print(final_result)\n"
   ]
  },
  {
   "cell_type": "markdown",
   "id": "8450fe45",
   "metadata": {},
   "source": [
    "# Q3. Given an integer n, your task is to count how many strings of length n can be formed under the following rules:\n",
    "\n",
    "Each character is a lower case vowel ('a', 'e', 'i', 'o', 'u')\n",
    "Each vowel 'a' may only be followed by an 'e'.\n",
    "Each vowel 'e' may only be followed by an 'a' or an 'i'.\n",
    "Each vowel 'i' may not be followed by another 'i'.\n",
    "Each vowel 'o' may only be followed by an 'i' or a 'u'.\n",
    "Each vowel 'u' may only be followed by an 'a'.\n",
    "Since the answer may be too large, return it modulo 10^9 + 7.\n",
    "\n",
    " \n",
    "\n",
    "Example 1:\n",
    "\n",
    "Input: n = 1\n",
    "Output: 5\n",
    "Explanation: All possible strings are: \"a\", \"e\", \"i\" , \"o\" and \"u\".\n",
    "Example 2:\n",
    "\n",
    "Input: n = 2\n",
    "Output: 10\n",
    "Explanation: All possible strings are: \"ae\", \"ea\", \"ei\", \"ia\", \"ie\", \"io\", \"iu\", \"oi\", \"ou\" and \"ua\".\n",
    "Example 3: \n",
    "\n",
    "Input: n = 5\n",
    "Output: 68\n",
    "\n"
   ]
  },
  {
   "cell_type": "code",
   "execution_count": 5,
   "id": "36fb3d9a",
   "metadata": {},
   "outputs": [
    {
     "name": "stdout",
     "output_type": "stream",
     "text": [
      "68\n"
     ]
    }
   ],
   "source": [
    "def count_Permutation(n: int) -> int:\n",
    "    prev, mod = [1, 1, 1, 1, 1], 10**9 + 7\n",
    "    \n",
    "    for _ in range(n - 1):\n",
    "        prev = [(prev[1] + prev[2] + prev[4]) % mod,\n",
    "                (prev[0] + prev[2]) % mod,\n",
    "                (prev[1] + prev[3]) % mod,\n",
    "                prev[2],\n",
    "                (prev[2] + prev[3]) % mod]\n",
    "    \n",
    "    return sum(prev) % mod\n",
    "\n",
    "# Example usage\n",
    "final_result = count_Permutation(5)\n",
    "print(final_result)\n"
   ]
  },
  {
   "cell_type": "code",
   "execution_count": null,
   "id": "9a60b74d",
   "metadata": {},
   "outputs": [],
   "source": []
  }
 ],
 "metadata": {
  "kernelspec": {
   "display_name": "Python 3 (ipykernel)",
   "language": "python",
   "name": "python3"
  },
  "language_info": {
   "codemirror_mode": {
    "name": "ipython",
    "version": 3
   },
   "file_extension": ".py",
   "mimetype": "text/x-python",
   "name": "python",
   "nbconvert_exporter": "python",
   "pygments_lexer": "ipython3",
   "version": "3.9.13"
  }
 },
 "nbformat": 4,
 "nbformat_minor": 5
}
