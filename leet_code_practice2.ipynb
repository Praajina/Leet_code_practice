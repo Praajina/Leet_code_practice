{
 "cells": [
  {
   "cell_type": "code",
   "execution_count": 2,
   "id": "3147f988",
   "metadata": {},
   "outputs": [
    {
     "name": "stdout",
     "output_type": "stream",
     "text": [
      "Output: [[-2, -1, 1, 2], [-2, 0, 0, 2], [-1, 0, 0, 1]]\n"
     ]
    }
   ],
   "source": [
    "#1-Write a Python program to find 4 numbers from an array such that the sum of 4 numbers equal to a given number.\n",
    "#Input : [1, 0, -1, 0, -2, 2,10,11], 0)\n",
    "#Output : [[-2, -1, 1, 2], [-2, 0, 0, 2], [-1, 0, 0, 1]]\n",
    "#defining the function sum_array with parameters nums, value\n",
    "def sum_array(nums, value):\n",
    "#assigning some empty list to a variable called find_value\n",
    "    find_value = []\n",
    "#sorting the values in the num\n",
    "    nums.sort()\n",
    "#finding the length of the num and assigning it to another variable called n\n",
    "    n = len(nums)\n",
    "#using nested loop to iterate through combination of four arrays\n",
    "    for i in range(n - 3):\n",
    "        for j in range(i + 1, n - 2):\n",
    "            left, right = j + 1, n - 1\n",
    "#using while loop to adjust the pointers\n",
    "            while left < right:\n",
    "                current_sum = nums[i] + nums[j] + nums[left] + nums[right]\n",
    "\n",
    "                if current_sum == value:\n",
    "                    find_num = [nums[i], nums[j], nums[left], nums[right]]\n",
    "                    find_value.append(find_num)\n",
    "                    left += 1\n",
    "                    right -= 1\n",
    "                elif current_sum < value:\n",
    "                    left += 1\n",
    "                else:\n",
    "                    right -= 1\n",
    "#returning the value\n",
    "    return find_value\n",
    "\n",
    "#assigning value to parameters of function\n",
    "nums = [1, 0, -1, 0, -2, 2, 10, 11]\n",
    "value = 0\n",
    "#calling the function\n",
    "result = sum_array(nums, value)\n",
    "#printing the value\n",
    "print(\"Output:\", result)\n"
   ]
  },
  {
   "cell_type": "code",
   "execution_count": 3,
   "id": "5ecce55b",
   "metadata": {},
   "outputs": [
    {
     "name": "stdout",
     "output_type": "stream",
     "text": [
      "The single number in a list that doesn't occur twice is =  3\n"
     ]
    }
   ],
   "source": [
    "# 2-Write a Python program to find the single element appears once in a list where every element appears multiple\n",
    "# times except for one. \n",
    "# Input : [1, 1, 1, 2, 2, 2, 3]\n",
    "#  Output : 3\n",
    "\n",
    "#defining a function repeat_value with parameter num\n",
    "def repeat_value(num):\n",
    "#iterating each element i in the list of num using for loop\n",
    "    for i in num:\n",
    "#counting the occurance of the number in the list\n",
    "        if num.count(i) == 1:\n",
    "            return i\n",
    "#assigning the input values       \n",
    "input_values = [1, 1, 1, 2, 2, 2, 3]\n",
    "#calling the function\n",
    "final = repeat_value(input_values)\n",
    "#displaying the final value\n",
    "print(\"The single number in a list that doesn't occur twice is = \", final)\n",
    "        \n",
    "    \n",
    "    "
   ]
  },
  {
   "cell_type": "code",
   "execution_count": 4,
   "id": "e1ca92ca",
   "metadata": {},
   "outputs": [
    {
     "name": "stdout",
     "output_type": "stream",
     "text": [
      "enter any positive integer: 48\n",
      "The result is: 3\n"
     ]
    }
   ],
   "source": [
    "# 3-Write a Python program to add the digits of a positive integer repeatedly until the result has a single digit. \n",
    "# Input : 48\n",
    "# Output : 3\n",
    "# For example given number is 59, the result will be 5.\n",
    "# Step 1: 5 + 9 = 14\n",
    "# Step 1: 1 + 4 = 5\n",
    "##defining a function positive_number with parameter num\n",
    "\n",
    "def positive_number(num):\n",
    "#using while loop to add the digits until the single digit is obtained\n",
    "    while num >= 10:\n",
    "#initializing total to 0\n",
    "        total = 0\n",
    "        while num > 0:\n",
    "#if the num is greater than 0 then total will be num modulo 10 and num will be num//10 which will be assign to total and the \n",
    "#iteration will continue till num will be less than 0\n",
    "            total += num % 10\n",
    "            num //= 10\n",
    "        num = total\n",
    "#return num\n",
    "    return num\n",
    "\n",
    "#taking user input\n",
    "user_input = int(input(\"enter any positive integer: \"))\n",
    "#function call\n",
    "result = positive_number(user_input)\n",
    "#printing result\n",
    "print(\"The result is:\", result)\n"
   ]
  },
  {
   "cell_type": "code",
   "execution_count": null,
   "id": "35fd2d6f",
   "metadata": {},
   "outputs": [],
   "source": []
  }
 ],
 "metadata": {
  "kernelspec": {
   "display_name": "Python 3 (ipykernel)",
   "language": "python",
   "name": "python3"
  },
  "language_info": {
   "codemirror_mode": {
    "name": "ipython",
    "version": 3
   },
   "file_extension": ".py",
   "mimetype": "text/x-python",
   "name": "python",
   "nbconvert_exporter": "python",
   "pygments_lexer": "ipython3",
   "version": "3.9.13"
  }
 },
 "nbformat": 4,
 "nbformat_minor": 5
}
