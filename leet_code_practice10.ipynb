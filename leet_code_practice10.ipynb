{
 "cells": [
  {
   "cell_type": "markdown",
   "id": "96111a4c",
   "metadata": {},
   "source": [
    "# Q1) Given two non-negative integers num1 and num2 represented as strings, return the product of num1 and num2, also represented as a string.\n",
    "\n",
    "Note: You must not use any built-in BigInteger library or convert the inputs to integer directly.\n",
    "\n",
    " \n",
    "\n",
    "Example 1:\n",
    "\n",
    "Input: num1 = \"2\", num2 = \"3\"\n",
    "\n",
    "Output: \"6\""
   ]
  },
  {
   "cell_type": "code",
   "execution_count": 9,
   "id": "01f6dbb8",
   "metadata": {},
   "outputs": [
    {
     "name": "stdout",
     "output_type": "stream",
     "text": [
      "Input: 2 3\n",
      "Output: 6\n"
     ]
    }
   ],
   "source": [
    "# defining a function called multiplication_string with two parameters\n",
    "def multiplication_string(num1, num2):\n",
    "# defining another function conversion_int with one parameter to comvert string to int\n",
    "    def conversion_int(n):\n",
    "#returning value by substracting n to value 0\n",
    "# ord is used to convert a single Unicode character into its integer representation\n",
    "        return ord(n) - ord('0')\n",
    "# initializing the value of n1 and n2 to zero\n",
    "    n1 = 0\n",
    "    n2 = 0\n",
    "# using loop inside every digits of num1\n",
    "    for num in num1:\n",
    "# calculating the value of n1\n",
    "        n1 = n1 * 10 + conversion_int(num)\n",
    "# using loop inside every digits of num2    \n",
    "    for num in num2:\n",
    "        n2 = n2 * 10 + conversion_int(num)\n",
    "# returning multiplication of n1 and n2\n",
    "    return str(n1 * n2)\n",
    "\n",
    "# taking input\n",
    "num1 = \"2\"\n",
    "num2 = \"3\"\n",
    "# calling function\n",
    "result = multiplication_string(num1, num2)\n",
    "# printing the output\n",
    "print(\"Input:\", num1, num2)\n",
    "print(\"Output:\", result)\n"
   ]
  },
  {
   "cell_type": "markdown",
   "id": "559ca2a6",
   "metadata": {},
   "source": [
    "# 2) The count-and-say sequence is a sequence of digit strings defined by the recursive formula:\n",
    "\n",
    "countAndSay(1) = \"1\"\n",
    "countAndSay(n) is the way you would \"say\" the digit string from countAndSay(n-1), which is then converted into a different digit string.\n",
    "To determine how you \"say\" a digit string, split it into the minimal number of substrings such that each substring contains exactly one unique digit. Then for each substring, say the number of digits, then say the digit. Finally, concatenate every said digit."
   ]
  },
  {
   "cell_type": "code",
   "execution_count": 16,
   "id": "90c3b1e8",
   "metadata": {},
   "outputs": [
    {
     "name": "stdout",
     "output_type": "stream",
     "text": [
      "Count and say value :111221\n"
     ]
    }
   ],
   "source": [
    "# defining a function with one parameter \n",
    "def count_and_say(num):\n",
    "# using if condition if the the value of num is equal to 1 then it will return 1\n",
    "    if num == 1:\n",
    "        return \"1\"\n",
    "# previous value before num becomes num -1\n",
    "    prev_value = count_and_say(num-1)\n",
    "# initializing an empty value and calling it final\n",
    "    final = \"\"\n",
    "# initializing the value of count is 1\n",
    "    count = 1\n",
    "# iterating over th erange og length of num-1 in i\n",
    "    for i in range(len(prev_value)):\n",
    "# checking if current value is equals to prev one the increasing the value of count\n",
    "        if i + 1 < len(prev_value) and prev_value[i] == prev_value[i+1]:\n",
    "            count += 1\n",
    "# else adding count and the digit to the final value\n",
    "        else:\n",
    "            final += str(count) + prev_value[i]\n",
    "            count = 1\n",
    "    return final\n",
    "num = 5 \n",
    "result = count_and_say(num)\n",
    "print(f\"Count and say value :{result}\")\n",
    "    \n",
    "    "
   ]
  },
  {
   "cell_type": "code",
   "execution_count": 19,
   "id": "21be6847",
   "metadata": {},
   "outputs": [],
   "source": [
    "class Solution(object):\n",
    "     def signFunc(x):\n",
    "        if x > 0:\n",
    "            return 1\n",
    "        if x == 0:\n",
    "            return 0\n",
    "        else:\n",
    "            return -1\n",
    "            \n",
    "def arraySign(self, nums):\n",
    "        \"\"\"\n",
    "        :type nums: List[int]\n",
    "        :rtype: int\n",
    "        \"\"\"\n",
    "        final = 1\n",
    "        for num in nums:\n",
    "            final = final * num \n",
    "        return signFunc(final)\n",
    "\n",
    "   \n",
    "        \n",
    "        "
   ]
  },
  {
   "cell_type": "code",
   "execution_count": null,
   "id": "529736cd",
   "metadata": {},
   "outputs": [],
   "source": []
  }
 ],
 "metadata": {
  "kernelspec": {
   "display_name": "Python 3 (ipykernel)",
   "language": "python",
   "name": "python3"
  },
  "language_info": {
   "codemirror_mode": {
    "name": "ipython",
    "version": 3
   },
   "file_extension": ".py",
   "mimetype": "text/x-python",
   "name": "python",
   "nbconvert_exporter": "python",
   "pygments_lexer": "ipython3",
   "version": "3.9.13"
  }
 },
 "nbformat": 4,
 "nbformat_minor": 5
}
