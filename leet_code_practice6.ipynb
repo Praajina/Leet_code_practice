{
 "cells": [
  {
   "cell_type": "markdown",
   "id": "c771a8d2",
   "metadata": {},
   "source": [
    "Student ID : C0906293\n",
    "Student Name: Prajina Rajkarnikar"
   ]
  },
  {
   "cell_type": "markdown",
   "id": "fa611305",
   "metadata": {},
   "source": [
    " # 1. Write a Python program to check a sequence of numbers is an arithmetic progression or not. \n",
    "# Input : [5, 7, 9, 11]\n",
    "# Output : True\n",
    "# In mathematics, an arithmetic progression or arithmetic sequence is a sequence of numbers such that the difference \n",
    "# between the consecutive terms is constant.\n",
    "# For example, the sequence 5, 7, 9, 11, 13, 15 ... is an arithmetic progression with common difference of 2."
   ]
  },
  {
   "cell_type": "code",
   "execution_count": 1,
   "id": "74ee6cd5",
   "metadata": {},
   "outputs": [
    {
     "name": "stdout",
     "output_type": "stream",
     "text": [
      "False\n"
     ]
    }
   ],
   "source": [
    "# defining a function arithmetic_prog having one parameter called num\n",
    "def arithmetic_prog(num):\n",
    "# any number of sequence less than 2 element is always a arithmetic progression\n",
    "    if len(num) < 2:\n",
    "        return True\n",
    "# n is a variable having the common difference between second element and first element\n",
    "    n = num[1] - num[0]\n",
    "#using a loop from index 1 \n",
    "    for i in range (1, len(num)):\n",
    "#if the difference between the second index and first index is not equal to the common difference n then returning false\n",
    "        if num[i] - num[i-1] == n:\n",
    "            return False\n",
    "# else returning true\n",
    "    return True\n",
    "#giving the input number\n",
    "num = [5, 7, 9, 11]\n",
    "#calling function\n",
    "result = arithmetic_prog(num)\n",
    "#printing the result\n",
    "print(result)"
   ]
  },
  {
   "cell_type": "markdown",
   "id": "59bec37c",
   "metadata": {},
   "source": [
    " #  2.Write a Python program to check whether a given number is an ugly number. \n",
    "# Input : 12\n",
    "# Output : True\n",
    "# Ugly numbers are positive numbers whose only prime factors are 2, 3 or 5. The sequence 1, 2, 3, 4, 5, 6, 8, 9, 10, 12, ...\n",
    "# shows the first 10 ugly numbers.\n",
    "# Note: 1 is typically treated as an ugly number"
   ]
  },
  {
   "cell_type": "code",
   "execution_count": 2,
   "id": "5dc9ccab",
   "metadata": {},
   "outputs": [
    {
     "name": "stdout",
     "output_type": "stream",
     "text": [
      "False\n"
     ]
    }
   ],
   "source": [
    "#defining a function with parameter n\n",
    "def ugly_num(n):\n",
    "# ugly numbers are positive numbers so if n is less than 0, it will return false\n",
    "    if n <= 0:\n",
    "        return False\n",
    "#applying loop only for the prime factors like 2,3 or 5\n",
    "    for p in [2,3,5]:\n",
    "#checkinf whether n is divisible by p\n",
    "        while n % p == 0:\n",
    "# dividing n with p and assigning it to a variable called n\n",
    "            n = n // p \n",
    "#will return True only if number becomes 1 after dividing by 2 , 3 and 5\n",
    "    return n == 1\n",
    "#giving input value\n",
    "n = 14\n",
    "#calling function\n",
    "result = ugly_num(n)\n",
    "#priting the result \n",
    "print(result)\n",
    "\n"
   ]
  },
  {
   "cell_type": "markdown",
   "id": "f529c122",
   "metadata": {},
   "source": [
    "#  3-Write a Python Function to find the single number in a list that doesn't occur n times.\n",
    "# Input : [5, 3, 3 , 4, 4, 3, 4], N=3\n",
    "# Output : 5"
   ]
  },
  {
   "cell_type": "code",
   "execution_count": 3,
   "id": "1ab81d87",
   "metadata": {},
   "outputs": [
    {
     "name": "stdout",
     "output_type": "stream",
     "text": [
      "Enter a positive integer to a list and type \"done\" when completed: 5\n",
      "Enter a positive integer to a list and type \"done\" when completed: 3\n",
      "Enter a positive integer to a list and type \"done\" when completed: 3\n",
      "Enter a positive integer to a list and type \"done\" when completed: 4\n",
      "Enter a positive integer to a list and type \"done\" when completed: 4\n",
      "Enter a positive integer to a list and type \"done\" when completed: 3\n",
      "Enter a positive integer to a list and type \"done\" when completed: 4\n",
      "Enter a positive integer to a list and type \"done\" when completed: done\n",
      "Your list is : [5, 3, 3, 4, 4, 3, 4]\n",
      "Element repeated in this list is {5}\n"
     ]
    }
   ],
   "source": [
    "#initializing an empty list\n",
    "list_1 = []\n",
    "#using while loop\n",
    "while True:\n",
    "#taking input from user inside the loop and it will continue until the user enters done then it will break the loop\n",
    "    num = input('Enter a positive integer to a list and type \"done\" when completed: ')\n",
    "    if num.lower() == 'done':\n",
    "        break\n",
    "#else it tries to convert the num to integer and append it to list_1\n",
    "    else:\n",
    "        try:\n",
    "            num = int(num)\n",
    "            list_1.append(num)\n",
    "#if it fails to do so due to valueError it catches the exception and prints an error message\n",
    "        except ValueError:\n",
    "            print('Invalid input. Please enter any positive integer')\n",
    "#print out the list user have entered\n",
    "print('Your list is :',list_1)\n",
    "#creating a list comprehension which iterated through each element in num and includes thoe where the count of num in list is\n",
    "#equals to 1\n",
    "not_repeated = set([num for num in list_1 if list_1.count(num) == 1])\n",
    "#if it is not reprated then prints out this message\n",
    "if not not_repeated:\n",
    "    print(\"No element is repeated in this list\")\n",
    "else:\n",
    "#else if it is repeated it prints out the message along with the number which is not repeated\n",
    "    print('Element repeated in this list is', not_repeated)\n",
    "        "
   ]
  }
 ],
 "metadata": {
  "kernelspec": {
   "display_name": "Python 3 (ipykernel)",
   "language": "python",
   "name": "python3"
  },
  "language_info": {
   "codemirror_mode": {
    "name": "ipython",
    "version": 3
   },
   "file_extension": ".py",
   "mimetype": "text/x-python",
   "name": "python",
   "nbconvert_exporter": "python",
   "pygments_lexer": "ipython3",
   "version": "3.9.13"
  }
 },
 "nbformat": 4,
 "nbformat_minor": 5
}
