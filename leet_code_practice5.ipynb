{
 "cells": [
  {
   "cell_type": "code",
   "execution_count": 1,
   "id": "48b2aa90",
   "metadata": {},
   "outputs": [],
   "source": [
    "# You are given a 0-indexed binary string s having an even length.\n",
    "\n",
    "# A string is beautiful if it's possible to partition it into one or more substrings such that:\n",
    "\n",
    "# Each substring has an even length.\n",
    "# Each substring contains only 1's or only 0's.\n",
    "# You can change any character in s to 0 or 1.\n",
    "\n",
    "# Return the minimum number of changes required to make the string s beautiful.\n",
    "\n",
    " \n",
    "\n",
    "# Example 1:\n",
    "\n",
    "# Input: s = \"1001\"\n",
    "# Output: 2\n",
    "# Explanation: We change s[1] to 1 and s[3] to 0 to get string \"1100\".\n",
    "# It can be seen that the string \"1100\" is beautiful because we can partition it into \"11|00\".\n",
    "# It can be proven that 2 is the minimum number of changes needed to make the string beautiful."
   ]
  },
  {
   "cell_type": "code",
   "execution_count": 2,
   "id": "7d9215c1",
   "metadata": {},
   "outputs": [
    {
     "name": "stdout",
     "output_type": "stream",
     "text": [
      "enter any binary string10\n",
      "1\n"
     ]
    }
   ],
   "source": [
    "#defining a funcion beautiful_String with parameter s\n",
    "def beautiful_string(s :str)->int:\n",
    "#n is a varibale which consists of length of the string s\n",
    "    n = len(s)\n",
    "#initializing change =0\n",
    "    change = 0\n",
    "#using for loop to start from index 1 till the end of the length of s which only includes the second index i.e odd index\n",
    "    for i in range(1,n,2):\n",
    "#checking if the odd index is not equal to the prev index then increasing the chnages value to 1\n",
    "        if s[i] != s[i-1]:\n",
    "            change += 1\n",
    "#returning the changes\n",
    "    return change\n",
    "#taking the user input\n",
    "s= input(\"enter any binary string\")\n",
    "#calling the function\n",
    "result = beautiful_string(s)\n",
    "# printing the result\n",
    "print(result)"
   ]
  },
  {
   "cell_type": "code",
   "execution_count": 3,
   "id": "a89b0ee9",
   "metadata": {
    "scrolled": true
   },
   "outputs": [
    {
     "name": "stdout",
     "output_type": "stream",
     "text": [
      "Enter the string you want: 89ADFRE41\n",
      "Numbers found in the string: [8, 9, 4, 1]\n"
     ]
    }
   ],
   "source": [
    "# Write a Python program to find all the numbers from 0-9 from a string:\n",
    "\n",
    "# input: '89ADFRE41'\n",
    "\n",
    "# Output :[8941]\n",
    "#using regex to solve this problem\n",
    "import re\n",
    "#defining a function find_numbers with parameter s\n",
    "def find_numbers(s):\n",
    "#initializing variable number which consists of empty list\n",
    "    numbers = []\n",
    "#using regex to find the numbers from 0-9 inside the string\n",
    "    get_num = re.findall('\\d', s)\n",
    "#using for loop inside the string to append the number after getting it  \n",
    "    for char in s:\n",
    "        if char.isdigit():\n",
    "            numbers.append(int(char))\n",
    "#returning the numebr   \n",
    "    return numbers\n",
    "#taking user input\n",
    "s = input('Enter the string you want: ')\n",
    "#function call\n",
    "result = find_numbers(s)\n",
    "#printing the results\n",
    "print(\"Numbers found in the string:\", result)\n"
   ]
  },
  {
   "cell_type": "code",
   "execution_count": 21,
   "id": "2d3b69f5",
   "metadata": {},
   "outputs": [
    {
     "name": "stdout",
     "output_type": "stream",
     "text": [
      "[1, 2]\n"
     ]
    }
   ],
   "source": [
    "# Write a Python program to find two elements once in a list where every element appears exactly n times in the list. \n",
    "# Input : [1, 2, 1, 3, 2, 5], 2    (n=2)\n",
    "# Output :[5, 3]\n",
    "\n",
    "#findind the occurance of the number and defining the function for it with two parameters\n",
    "def find_occurance(list, n):\n",
    "#assigning empty list to result\n",
    "    result = []\n",
    "#starting loop in the list to check if the number is already in the list of not and if not appending it to result\n",
    "    for num in list:\n",
    "        if find_element(list, num) == n and num not in result:\n",
    "            result.append(num)\n",
    "\n",
    "    return result\n",
    "#defining another funtion to count the repeatation of number\n",
    "def find_element(list, num):\n",
    "#initializing count to 0\n",
    "    count = 0\n",
    "#starting loop to check if the number in the list is equal to num and if yes increasong count to 1\n",
    "    for number in list:\n",
    "        if number == num:\n",
    "            count +=1\n",
    "    return count\n",
    "#initializing the values\n",
    "list=[1, 2, 1, 3, 2, 5]\n",
    "n = 2\n",
    "#calling the functions\n",
    "result=find_occurance(list, n)\n",
    "#printing the results\n",
    "print(result)\n"
   ]
  },
  {
   "cell_type": "code",
   "execution_count": 6,
   "id": "80143eb4",
   "metadata": {},
   "outputs": [
    {
     "name": "stdout",
     "output_type": "stream",
     "text": [
      "Enter the number you want-432\n",
      "The reversed of the given number is = -234\n"
     ]
    }
   ],
   "source": [
    "# Write a Python program to reverse the digits of an integer. \n",
    "# Input : 234\n",
    "# Input : -234\n",
    "# Output: 432\n",
    "# Output : -432\n",
    "\n",
    "\n",
    "#creating a function reverse_digits with the parameter num\n",
    "def reverse_digits(num):\n",
    "#checking if the number is negative, if the number is negative then the value of is_negative will be true and\n",
    "#will take the absolute value of number\n",
    "    is_negative = False\n",
    "    if num < 0:\n",
    "        is_negative = True\n",
    "        num = abs(num)\n",
    "#reversing the num and converting it to a string\n",
    "    reversed_str = str(num)[::-1]\n",
    "#converting the reversed_str to integer again and assigning it to a variable called reversed_num\n",
    "    reversed_num = int(reversed_str)\n",
    "#if the original number was a negative value then it will multiply the reversed number with -1 and make it negative again    \n",
    "    if is_negative:\n",
    "        reversed_num *= -1\n",
    "    return reversed_num\n",
    "#taking user input\n",
    "num = int(input('Enter the number you want'))\n",
    "#calling funtion\n",
    "final = reverse_digits(num)\n",
    "#printing the value\n",
    "print('The reversed of the given number is =',final)"
   ]
  },
  {
   "cell_type": "code",
   "execution_count": 7,
   "id": "40cea971",
   "metadata": {},
   "outputs": [],
   "source": [
    "# You are given three integers start, finish, and limit. You are also given a 0-indexed string s representing\n",
    "#a positive integer.\n",
    "\n",
    "# A positive integer x is called powerful if it ends with s (in other words, s is a suffix of x) and each digit\n",
    "#in x is at most limit.\n",
    "\n",
    "# Return the total number of powerful integers in the range [start..finish].\n",
    "\n",
    "# A string x is a suffix of a string y if and only if x is a substring of y that starts from some index (including 0)\n",
    "#in y and extends to the index y.length - 1. For example, 25 is a suffix of 5125 whereas 512 is not.\n",
    "\n",
    "# Example 1:\n",
    "\n",
    "# Input: start = 1, finish = 6000, limit = 4, s = \"124\"\n",
    "# Output: 5\n",
    "# Explanation: The powerful integers in the range [1..6000] are 124, 1124, 2124, 3124, and, 4124. All these integers have \n",
    "#each digit <= 4, and \"124\" as a suffix. Note that 5124 is not a powerful integer because the first digit is 5 which is \n",
    "# greater than 4.It can be shown that there are only 5 powerful integers in this range."
   ]
  },
  {
   "cell_type": "code",
   "execution_count": 9,
   "id": "42ffbb7f",
   "metadata": {},
   "outputs": [
    {
     "name": "stdout",
     "output_type": "stream",
     "text": [
      "5\n"
     ]
    }
   ],
   "source": [
    "#creating a function powerful_integer with parameters x, s and limit\n",
    "def powerful_integer(x,s,limit):\n",
    "#converting x to string and assigning it to a variable\n",
    "    str_x = str(x)\n",
    "#taking the string that ends with s and assigning to a variable\n",
    "    ends_with = str_x.endswith(S)\n",
    "# checking if all digit in the x <=  the limit\n",
    "    check_limit = all (int(digit) <= limit for digit in str_x)\n",
    "    final = ends_with and check_limit\n",
    "    return final\n",
    "#defining another function is_powerful with parameters start, finish, limit and s\n",
    "def is_powerful(start,finish,limit,s):\n",
    "#initializing count to 0\n",
    "    count = 0\n",
    "#starting the loop from start to finish+1\n",
    "    for num in range(start,finish+1):\n",
    "# for each number it checks if the nunmber is powerful or not and if yes it increases the value of count\n",
    "        if powerful_integer(n, s,limit):\n",
    "            count +=1\n",
    "        return count\n",
    "#assigning values \n",
    "start = 1\n",
    "finish = 6000\n",
    "limit = 4\n",
    "s = \"124\" \n",
    "#calling function\n",
    "finals = count_powerful_numbers(start, finish, limit, s)\n",
    "#printing the value\n",
    "print(finals)\n"
   ]
  }
 ],
 "metadata": {
  "kernelspec": {
   "display_name": "Python 3 (ipykernel)",
   "language": "python",
   "name": "python3"
  },
  "language_info": {
   "codemirror_mode": {
    "name": "ipython",
    "version": 3
   },
   "file_extension": ".py",
   "mimetype": "text/x-python",
   "name": "python",
   "nbconvert_exporter": "python",
   "pygments_lexer": "ipython3",
   "version": "3.9.13"
  }
 },
 "nbformat": 4,
 "nbformat_minor": 5
}
