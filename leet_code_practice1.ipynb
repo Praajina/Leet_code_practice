{
 "cells": [
  {
   "cell_type": "code",
   "execution_count": 1,
   "id": "4c8d3f84",
   "metadata": {},
   "outputs": [
    {
     "name": "stdout",
     "output_type": "stream",
     "text": [
      "Enter the number you want:39\n",
      "39 is not a perfect square\n"
     ]
    }
   ],
   "source": [
    "#Write a Python program to check if a number is a perfect square\n",
    "#taking user input to find a perfect square\n",
    "user_input = int(input(\"Enter the number you want:\"))\n",
    "#initializing perfect_square = 1 to find the square root from the smallest number\n",
    "perfect_square = 1\n",
    "#using while loop to start the iteration until the user_input is greater than the perfect_square\n",
    "while perfect_square * perfect_square < user_input:\n",
    "    perfect_square += 1\n",
    "#using if condition to find out the perfect square\n",
    "if perfect_square * perfect_square == user_input:\n",
    "    print(f\"{user_input} is a perfect square\")\n",
    "else:\n",
    "    print(f\"{user_input} is not a perfect square\")"
   ]
  },
  {
   "cell_type": "code",
   "execution_count": 2,
   "id": "66baa9e1",
   "metadata": {},
   "outputs": [
    {
     "name": "stdout",
     "output_type": "stream",
     "text": [
      "The missing number in this list is :  5\n"
     ]
    }
   ],
   "source": [
    "#Write a Python program to find a missing number from a list. \n",
    "#Input : [1,2,3,4,6,7,8]\n",
    "#Output : 5\n",
    "#defining the function with function name missing_value with parameters num,start and end\n",
    "def missing_value(num,start,end):\n",
    "#the initial sum is calculates the initial sum with including the missing value from range 1 to 8\n",
    "    initial_sum = sum(range(start, end + 1))\n",
    "#the final_sum calculates the final sum without including the missing value from given range\n",
    "    final_sum = sum(num)\n",
    "#assigning the difference to a variable which will find the missing value\n",
    "    missing_value = initial_sum - final_sum\n",
    "    \n",
    "    return missing_value\n",
    "#initializing the list   \n",
    "list_1 = [1, 2, 3, 4, 6, 7, 8]\n",
    "#assigning value to a parameter of function\n",
    "start_1 = 1\n",
    "end_1 = 8\n",
    "#calling the function\n",
    "missing = missing_value(list_1,start_1,end_1)\n",
    "#printing the value\n",
    "print(\"The missing number in this list is : \",missing)\n",
    " \n"
   ]
  },
  {
   "cell_type": "code",
   "execution_count": 3,
   "id": "1a2d7d38",
   "metadata": {},
   "outputs": [
    {
     "name": "stdout",
     "output_type": "stream",
     "text": [
      "The single number in a list that doesn't occur twice is =  5\n"
     ]
    }
   ],
   "source": [
    "#Write a Python program to find the single number in a list that doesn't occur twice.\n",
    "#Input : [5, 3, 4, 3, 4]\n",
    "#Output : 5\n",
    "#defining a function repeat_value with parameter num\n",
    "def repeat_value(num):\n",
    "#iterating each element i in the list of num using for loop\n",
    "    for i in num:\n",
    "#counting the occurance of the number in the list\n",
    "        if num.count(i) == 1:\n",
    "            return i\n",
    "#assigning the input values       \n",
    "input_values = [5, 3, 4, 3, 4]\n",
    "#calling the function\n",
    "final = repeat_value(input_values)\n",
    "#displaying the final value\n",
    "print(\"The single number in a list that doesn't occur twice is = \", final)\n",
    "        \n",
    "    \n",
    "    "
   ]
  }
 ],
 "metadata": {
  "kernelspec": {
   "display_name": "Python 3 (ipykernel)",
   "language": "python",
   "name": "python3"
  },
  "language_info": {
   "codemirror_mode": {
    "name": "ipython",
    "version": 3
   },
   "file_extension": ".py",
   "mimetype": "text/x-python",
   "name": "python",
   "nbconvert_exporter": "python",
   "pygments_lexer": "ipython3",
   "version": "3.9.13"
  }
 },
 "nbformat": 4,
 "nbformat_minor": 5
}
