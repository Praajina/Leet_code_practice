{
 "cells": [
  {
   "cell_type": "markdown",
   "id": "30533da1",
   "metadata": {},
   "source": [
    "Q1: A phrase is a palindrome if, after converting all uppercase letters into lowercase letters and removing all non-alphanumeric characters, it reads the same forward and backward. Alphanumeric characters include letters and numbers. Given a string s, return true if it is a palindrome, or false otherwise.\n",
    "\n",
    "Example 1:\n",
    "\n",
    "Input: s = \"A man, a plan, a canal: Panama\"\n",
    "\n",
    "Output: true\n",
    "\n",
    "Explanation: \"amanaplanacanalpanama\" is a palindrome.\n",
    "\n",
    "Example 2:\n",
    "\n",
    "Input: s = \"race a car\"\n",
    "\n",
    "Output: false\n",
    "\n",
    "Explanation: \"raceacar\" is not a palindrome."
   ]
  },
  {
   "cell_type": "code",
   "execution_count": 1,
   "id": "ca1b142e",
   "metadata": {},
   "outputs": [
    {
     "name": "stdout",
     "output_type": "stream",
     "text": [
      "True\n",
      "False\n"
     ]
    }
   ],
   "source": [
    "# defining a function called prep_palindrome with parameter s\n",
    "def prep_palindrome(s:str):\n",
    "# converting all the string to lower \n",
    "    s = s.lower()\n",
    "# removing all non alphaunmeric characters\n",
    "    getVals = list([val for val in s if val.isalnum()])\n",
    "    s = \"\".join(getVals)\n",
    "# if the length of the string is less than 1 then it is a palindrome number\n",
    "    if len(s)<1:\n",
    "        return True\n",
    "# calling another function \n",
    "    return check_pal(0,s)\n",
    "#defining another function called check_pal with parameter i and s\n",
    "def check_pal(i,s):\n",
    "#if the len of the string divided by 2 is still less the i then it is a palindrome number\n",
    "    if i >= len(s) // 2:\n",
    "        return True\n",
    "# checking if the index of s is not equal to the end index of the string and if not return false\n",
    "    if s[i] != s[len(s) - i - 1]:\n",
    "        return False\n",
    "# otherwise calling next index to keep comparing another character\n",
    "    return check_pal(i+1,s)\n",
    "# taking user inputs ,  calling function, and printing the output\n",
    "\n",
    "result = \"A man, a plan, a canal: Panama\"\n",
    "final = prep_palindrome(result)\n",
    "print(final)\n",
    "\n",
    "result = \"race a car\"\n",
    "final = prep_palindrome(result)\n",
    "print(final)\n",
    "    \n",
    "    "
   ]
  },
  {
   "cell_type": "markdown",
   "id": "50f2c934",
   "metadata": {},
   "source": [
    "Q2 Given an array nums of size n, return the majority element. The majority element is the element that appears more than ⌊n / 2⌋ times. You may assume that the majority element always exists in the array.\n",
    "\n",
    "Example 1:\n",
    "\n",
    "Input: nums = [3,2,3]\n",
    "\n",
    "Output: 3\n",
    "\n",
    "Example 2:\n",
    "\n",
    "Input: nums = [2,2,1,1,1,2,2]\n",
    "\n",
    "Output: 2"
   ]
  },
  {
   "cell_type": "code",
   "execution_count": 2,
   "id": "a8dec3de",
   "metadata": {},
   "outputs": [
    {
     "name": "stdout",
     "output_type": "stream",
     "text": [
      "3\n",
      "2\n"
     ]
    }
   ],
   "source": [
    "#defining a function with integer value num\n",
    "def majority_element(num):\n",
    "# sorting the value inside num\n",
    "    num.sort()\n",
    "# after sorting the majority elements appers more than n/2 times that means it will occupy the middle position in the sortedarray\n",
    "    return num[len(num) // 2]\n",
    "# taking user input\n",
    "result =  [3,2,3]\n",
    "# calling function\n",
    "final = majority_element(result)\n",
    "# printing result\n",
    "print(final)\n",
    "# taking annother user input\n",
    "result =  [2,2,1,1,1,2,2]\n",
    "#calling function\n",
    "final = majority_element(result)\n",
    "#printing result\n",
    "print(final)"
   ]
  },
  {
   "cell_type": "markdown",
   "id": "bd6a194c",
   "metadata": {},
   "source": [
    "Q3 Write an algorithm to determine if a number n is happy. A happy number is a number defined by the following process:\n",
    "\n",
    "Starting with any positive integer, replace the number by the sum of the squares of its digits.\n",
    "Repeat the process until the number equals 1 (where it will stay), or it loops endlessly in a cycle which does not include 1.\n",
    "Those numbers for which this process ends in 1 are happy.\n",
    "Return true if n is a happy number, and false if not.\n",
    "\n",
    " Example 1:\n",
    "\n",
    "Input: n = 19\n",
    "\n",
    "Output: true\n",
    "\n",
    "Explanation:\n",
    "\n",
    "12 + 92 = 82\n",
    "\n",
    "82 + 22 = 68\n",
    "\n",
    "62 + 82 = 100\n",
    "\n",
    "12 + 02 + 02 = 1\n",
    "\n",
    "Example 2:\n",
    "\n",
    "Input: n = 2\n",
    "\n",
    "Output: false"
   ]
  },
  {
   "cell_type": "code",
   "execution_count": 3,
   "id": "ba88fdc0",
   "metadata": {},
   "outputs": [
    {
     "name": "stdout",
     "output_type": "stream",
     "text": [
      "True\n",
      "False\n"
     ]
    }
   ],
   "source": [
    "#defining a function with one parameter num\n",
    "def check_happy(num):\n",
    "#initializing an empty set and asssigning it to a variable called final\n",
    "    final = set()\n",
    "# using while loop to continue the loop until num is equal to 1 which means the number is a happy number and exits the loop\n",
    "    while num  != 1:\n",
    "# calculation the sum of sqaure of the number \n",
    "        num = sum([int(i) ** 2 for i in str(num)])\n",
    "# if the number is already inside the list then it is not a happy number\n",
    "        if num in final:\n",
    "            return False\n",
    "# if the num is not inside the set then it adds to it\n",
    "        else:\n",
    "            final.add(num)\n",
    "# if the number is equals to 1 then it returns true\n",
    "    else:\n",
    "        return True\n",
    "# taking user inputs ,  calling function, and printing the output\n",
    "num = 19\n",
    "result = check_happy(num)\n",
    "print(result)\n",
    "\n",
    "num = 2\n",
    "result = check_happy(num)\n",
    "print(result)\n",
    "        "
   ]
  },
  {
   "cell_type": "markdown",
   "id": "9d7a416d",
   "metadata": {},
   "source": [
    "You are given an integer array nums. We call a subset of nums good if its product can be represented as a product of one or more distinct prime numbers.\n",
    "\n",
    "For example, if nums = [1, 2, 3, 4]:\n",
    "[2, 3], [1, 2, 3], and [1, 3] are good subsets with products 6 = 2*3, 6 = 2*3, and 3 = 3 respectively.\n",
    "[1, 4] and [4] are not good subsets with products 4 = 2*2 and 4 = 2*2 respectively.\n",
    "Return the number of different good subsets in nums modulo 109 + 7.\n",
    "\n",
    "A subset of nums is any array that can be obtained by deleting some (possibly none or all) elements from nums. Two subsets are different if and only if the chosen indices to delete are different.\n",
    "\n",
    " \n",
    "\n",
    "Example 1:\n",
    "\n",
    "Input: nums = [1,2,3,4]\n",
    "Output: 6\n",
    "Explanation: The good subsets are:\n",
    "- [1,2]: product is 2, which is the product of distinct prime 2.\n",
    "- [1,2,3]: product is 6, which is the product of distinct primes 2 and 3.\n",
    "- [1,3]: product is 3, which is the product of distinct prime 3.\n",
    "- [2]: product is 2, which is the product of distinct prime 2.\n",
    "- [2,3]: product is 6, which is the product of distinct primes 2 and 3.\n",
    "- [3]: product is 3, which is the product of distinct prime 3.\n",
    "Example 2:\n",
    "\n",
    "Input: nums = [4,2,3,15]\n",
    "Output: 5\n",
    "Explanation: The good subsets are:\n",
    "- [2]: product is 2, which is the product of distinct prime 2.\n",
    "- [2,3]: product is 6, which is the product of distinct primes 2 and 3.\n",
    "- [2,15]: product is 30, which is the product of distinct primes 2, 3, and 5.\n",
    "- [3]: product is 3, which is the product of distinct prime 3.\n",
    "- [15]: product is 15, which is the product of distinct primes 3 and 5.\n"
   ]
  },
  {
   "cell_type": "code",
   "execution_count": 8,
   "id": "23df8053",
   "metadata": {},
   "outputs": [],
   "source": [
    "from typing import List\n",
    "from collections import Counter\n",
    "from functools import lru_cache\n",
    "\n",
    "def good_subset(nums:List[int]):\n",
    "    prime_num = [2,3,5,7,11,13,17,19,23,29]\n",
    "    empty_dict = {}\n",
    "    for s in range(1,31):\n",
    "        org = s\n",
    "        m = 0\n",
    "        for p in prime_num:\n",
    "            if s % p : continue\n",
    "            if p > s : break\n",
    "            s //= p\n",
    "            mask ^= (1 << p)\n",
    "        if s==1:\n",
    "            empty_dict[org] = mask"
   ]
  },
  {
   "cell_type": "code",
   "execution_count": null,
   "id": "3f97a799",
   "metadata": {},
   "outputs": [],
   "source": []
  }
 ],
 "metadata": {
  "kernelspec": {
   "display_name": "Python 3 (ipykernel)",
   "language": "python",
   "name": "python3"
  },
  "language_info": {
   "codemirror_mode": {
    "name": "ipython",
    "version": 3
   },
   "file_extension": ".py",
   "mimetype": "text/x-python",
   "name": "python",
   "nbconvert_exporter": "python",
   "pygments_lexer": "ipython3",
   "version": "3.9.13"
  }
 },
 "nbformat": 4,
 "nbformat_minor": 5
}
