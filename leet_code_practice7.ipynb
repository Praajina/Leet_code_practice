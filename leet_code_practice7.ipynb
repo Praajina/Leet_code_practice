{
 "cells": [
  {
   "cell_type": "markdown",
   "id": "b30a219e",
   "metadata": {},
   "source": [
    "PRAJINA RAJKARNIKAR\n",
    "STUDENT ID: C0906293"
   ]
  },
  {
   "cell_type": "markdown",
   "id": "d642de58",
   "metadata": {},
   "source": [
    "# Q1 )\n",
    "\n",
    "Given an integer x, return true if x is palindrome integer.\n",
    "\n",
    "An integer is a palindrome when it reads the same backward as forward.\n",
    "\n",
    "For example, 121 is a palindrome while 123 is not."
   ]
  },
  {
   "cell_type": "code",
   "execution_count": 1,
   "id": "d9fd129d",
   "metadata": {},
   "outputs": [
    {
     "name": "stdout",
     "output_type": "stream",
     "text": [
      "enter the num you want123\n",
      "False\n"
     ]
    }
   ],
   "source": [
    "#defining the function check_palindrome with parameter num\n",
    "def check_palindrome(num):\n",
    "#if num is a negative number, it returns False\n",
    "    if num < 0:\n",
    "        return False\n",
    "#As 0 is considered as palindrome number, it checks if the input is 0, if it is, returns True\n",
    "    if num == 0:\n",
    "        return True\n",
    "#Except for 0 itself, numbers ending with 0 is not palindrome\n",
    "#It checks if the numbers ends with 0 or not, and returns False if the condition is true\n",
    "    if num % 10 == 0:\n",
    "        return False\n",
    "#initializing reversed_value as 0 and assgining num(input) to a variable original_value    \n",
    "    original_value = num\n",
    "    reversed_value = 0\n",
    "#using a loop to reversed the value using while loop to check if the input is greate than 0\n",
    "    while num > 0:\n",
    "#gives the remainder when input is divided by 10, gives the last digit of the numbers\n",
    "        last_digit = num % 10\n",
    "#building reversed numbers digits by digits\n",
    "        reversed_value = reversed_value * 10 + last_digit\n",
    "#removing the last digit from the number\n",
    "        num = num // 10\n",
    "#returning if reversed_value is equal to original_value\n",
    "    return reversed_value == original_value\n",
    "#takinf user input\n",
    "num = int(input('enter the num you want'))\n",
    "#calling funtion\n",
    "result = check_palindrome(num)\n",
    "#printing the result\n",
    "print(result)\n",
    "    "
   ]
  },
  {
   "cell_type": "markdown",
   "id": "a91f1941",
   "metadata": {},
   "source": [
    "# Q2)\n",
    "\n",
    "Roman numerals are represented by seven different symbols: I, V, X, L, C, D and M.\n",
    "\n",
    "Symbol       Value\n",
    "\n",
    "I             1\n",
    "\n",
    "V             5\n",
    "\n",
    "X             10\n",
    "\n",
    "L             50\n",
    "\n",
    "C             100\n",
    "\n",
    "D             500\n",
    "\n",
    "M             1000\n",
    "\n",
    "For example, 2 is written as II in Roman numeral, just two ones added together. 12 is written as XII, which is simply X + II. The number 27 is written as XXVII, which is XX + V + II.\n",
    "\n",
    "Roman numerals are usually written largest to smallest from left to right. However, the numeral for four is not IIII. Instead, the number four is written as IV. Because the one is before the five we subtract it making four. The same principle applies to the number nine, which is written as IX. There are six instances where subtraction is used:\n",
    "\n",
    "I can be placed before V (5) and X (10) to make 4 and 9. \n",
    "X can be placed before L (50) and C (100) to make 40 and 90. \n",
    "C can be placed before D (500) and M (1000) to make 400 and 900.\n",
    "Given a roman numeral, convert it to an integer."
   ]
  },
  {
   "cell_type": "code",
   "execution_count": 3,
   "id": "3e8f7272",
   "metadata": {},
   "outputs": [
    {
     "name": "stdout",
     "output_type": "stream",
     "text": [
      "Enter the number you want to convert2856\n",
      "The Roman representation is MMDCCCLVI\n"
     ]
    }
   ],
   "source": [
    "#defining the function string_to_roman with parameter num\n",
    "def string_to_roman(num):\n",
    "#initializing an empty string roman\n",
    "    roman = ''\n",
    "#defining notations as roman numeral symbol and value represents their corresponding integer values\n",
    "    notations = ['M','CM','D','CD','C','XC','L','XL','X','IX','V','IV','I']\n",
    "    value =[1000,900,500,400,100,90,50,40,10,9,5,4,1]\n",
    "#iterating over the len of notation which will be applied for each notations    \n",
    "    for pos in range(len(notations)):\n",
    "#using while loop to check if num is greater or equal to the value of roman numeral symbols\n",
    "        while num>=value[pos]:\n",
    "#If the current symbol matches or is smaller than the remaining number, it adds that symbol to a string and \n",
    "#subtracts its value from the original number until it can't do that anymore\n",
    "            roman += notations[pos]\n",
    "            num -= value[pos]\n",
    "#returning the value roman\n",
    "    return roman\n",
    "#taking user input\n",
    "num = int(input('Enter the number you want to convert'))\n",
    "#calling function\n",
    "result = string_to_roman(num)\n",
    "#printing the result\n",
    "print(f'The Roman representation is {result}')\n",
    "    "
   ]
  },
  {
   "cell_type": "markdown",
   "id": "25e0f06e",
   "metadata": {},
   "source": [
    "# You are given an array of k linked-lists lists, each linked-list is sorted in ascending order.\n",
    "\n",
    "Merge all the linked-lists into one sorted linked-list and return it.\n",
    "Example 1:\n",
    "\n",
    "Input: lists = [[1,4,5],[1,3,4],[2,6]]\n",
    "Output: [1,1,2,3,4,4,5,6]\n",
    "Explanation: The linked-lists are:\n",
    "[\n",
    "  1->4->5,\n",
    "  1->3->4,\n",
    "  2->6\n",
    "]\n",
    "merging them into one sorted list:\n",
    "1->1->2->3->4->4->5->6\n",
    "Example 2:\n",
    "\n",
    "Input: lists = []\n",
    "Output: []\n",
    "Example 3:\n",
    "\n",
    "Input: lists = [[]]\n",
    "Output: []"
   ]
  },
  {
   "cell_type": "code",
   "execution_count": 21,
   "id": "2df611d0",
   "metadata": {},
   "outputs": [
    {
     "name": "stdout",
     "output_type": "stream",
     "text": [
      "1 -> 1 -> 3 -> 4 -> 4 -> 5 -> "
     ]
    }
   ],
   "source": [
    "from typing import List\n",
    "def __init__(self, val=0, next=None):\n",
    "        self.val = val\n",
    "        self.next = next\n",
    "def mergeLists(lists: List[ListNode]) -> ListNode:\n",
    "    nodes = []\n",
    "    head = point = ListNode(0)\n",
    "    for l in lists:\n",
    "        while l:+++\n",
    "            nodes.append(l.val)\n",
    "            l = l.next\n",
    "\n",
    "    for k in sorted(nodes):\n",
    "        point.next = ListNode(k)\n",
    "        point = point.next\n",
    "\n",
    "    return head.next\n",
    "list1 = ListNode(1, ListNode(4, ListNode(5)))\n",
    "list2 = ListNode(1, ListNode(3, ListNode(4)))\n",
    "result = mergeLists([list1, list2])\n",
    "\n",
    "while result:\n",
    "    print(result.val, end=\" -> \")\n",
    "    result = result.next\n"
   ]
  },
  {
   "cell_type": "markdown",
   "id": "9b77cce2",
   "metadata": {},
   "source": [
    "# Q4\n",
    "Given an integer array nums and an integer k, return the number of good subarrays of nums.\n",
    "\n",
    "A good array is an array where the number of different integers in that array is exactly k.\n",
    "\n",
    "For example, [1,2,3,1,2] has 3 different integers: 1, 2, and 3.\n",
    "A subarray is a contiguous part of an array.\n",
    "\n",
    " \n",
    "\n",
    "Example 1:\n",
    "\n",
    "Input: nums = [1,2,1,2,3], k = 2\n",
    "Output: 7\n",
    "Explanation: Subarrays formed with exactly 2 different integers: [1,2], [2,1], [1,2], [2,3], [1,2,1], [2,1,2], [1,2,1,2]\n",
    "Example 2:\n",
    "\n",
    "Input: nums = [1,2,1,3,4], k = 3\n",
    "Output: 3\n",
    "Explanation: Subarrays formed with exactly 3 different integers: [1,2,1,3], [2,1,3], [1,3,4].\n"
   ]
  },
  {
   "cell_type": "code",
   "execution_count": 16,
   "id": "391ddbc2",
   "metadata": {},
   "outputs": [
    {
     "name": "stdout",
     "output_type": "stream",
     "text": [
      "7\n",
      "3\n"
     ]
    }
   ],
   "source": [
    "#importing list and counter\n",
    "from typing import List\n",
    "from collections import Counter\n",
    "#defining a funtion with two parameters num as a list of integer and n as a integer\n",
    "def subarrays(num: List[int], n: int) -> int:\n",
    "#defining another helper function with parameter n which will be used by above function\n",
    "    def subset(n):\n",
    "#pos is a list that stores the starting position of subarray\n",
    "        pos = [0] * len(num)\n",
    "##counter object used to keep track of frequency of element\n",
    "        count = Counter()\n",
    "#initialize j to 0\n",
    "        j = 0\n",
    "#iterating through the list num \n",
    "        for i, x in enumerate(num):\n",
    "#increasing the value of count\n",
    "            count[x] += 1\n",
    "#using while loop to checkif the len of count is greater than n \n",
    "            while len(count) > n:\n",
    "#decreasing the number of count\n",
    "                count[num[j]] -= 1\n",
    "#checking if the count reached to 0 after decreasing\n",
    "                if count[num[j]] == 0:\n",
    "                    count.pop(num[j])\n",
    "                j += 1\n",
    "            pos[i] = j\n",
    "        return pos\n",
    "\n",
    "    return sum(a - b for a, b in zip(subset(n - 1), subset(n)))\n",
    "#providing values\n",
    "num1 = [1, 2, 1, 2, 3]\n",
    "num2 = [1, 2, 1, 3, 4]\n",
    "subset1 = 2\n",
    "subset2 = 3\n",
    "#calling function\n",
    "result1 = subarrays(num1, subset1)\n",
    "result2 = subarrays(num2, subset2)\n",
    "#printing the result\n",
    "print(result1)  \n",
    "print(result2) "
   ]
  },
  {
   "cell_type": "code",
   "execution_count": null,
   "id": "739c508d",
   "metadata": {},
   "outputs": [],
   "source": []
  }
 ],
 "metadata": {
  "kernelspec": {
   "display_name": "Python 3 (ipykernel)",
   "language": "python",
   "name": "python3"
  },
  "language_info": {
   "codemirror_mode": {
    "name": "ipython",
    "version": 3
   },
   "file_extension": ".py",
   "mimetype": "text/x-python",
   "name": "python",
   "nbconvert_exporter": "python",
   "pygments_lexer": "ipython3",
   "version": "3.9.13"
  }
 },
 "nbformat": 4,
 "nbformat_minor": 5
}
