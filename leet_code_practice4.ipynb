{
 "cells": [
  {
   "cell_type": "code",
   "execution_count": 21,
   "id": "de4a0363",
   "metadata": {},
   "outputs": [
    {
     "name": "stdout",
     "output_type": "stream",
     "text": [
      "Enter any string:acaab\n",
      "Enter any pattern:.c.*\n",
      "True\n"
     ]
    }
   ],
   "source": [
    "#Given an input string s and a pattern p, implement regular expression matching with support for '.' and '*' where:\n",
    "\n",
    "# '.' Matches any single character.\n",
    "# '*' Matches zero or more of the preceding element.\n",
    "# The matching should cover the entire input string (not partial).\n",
    "\n",
    "#defining a function isMatch which takes two input string (s , p) and return the value in boolean whether the expression \n",
    "#matches or not\n",
    "def isMatch(s: str, p:str) -> bool:\n",
    "#memoization: adding a memoi dictionary to is_match function which checks if the result for that pair is already there or not\n",
    "#before calculationg\n",
    "    memoi = {}\n",
    "    def index_s_p(i,j):\n",
    "        if (i,j) in memoi:\n",
    "            return memoi[(i,j)]\n",
    "#using if function to check if the index of s is greater or equal to len of s \n",
    "#and if the index of p is greater or equal to len of p \n",
    "        if i >=len(s) and j>=len(p):\n",
    "            return True\n",
    "#checking if index line has reached to end or not\n",
    "        if j >=len(p):\n",
    "            return False\n",
    "#checking if there is a match between the characters at indices i and j\n",
    "        match = i<len(s) and (s[i]==p[j] or p[j]=='.')\n",
    "#ichecking if the next character is '*' then either we can repeat the preceeding character or we can skip\n",
    "        if(j+1) < len(p) and p[j+1]=='*':\n",
    "            memoi[(i,j)] = (index_s_p(i,j+2) or (match and index_s_p(i+1,j)))\n",
    "            return memoi[(i,j)]\n",
    "#checking if it matches the characters then it will return true\n",
    "        if index_s_p:\n",
    "            memoi[(i,j)] = index_s_p(i+1,j+1)\n",
    "            return memoi[(i,j)]\n",
    "# storing the computed result (ans) for the current pair of indices (i, j) in the memo\n",
    "        memoi[(i,j)] = False\n",
    "        return memoi[(i,j)]\n",
    "    return index_s_p(0,0)\n",
    "#taking user input    \n",
    "s = input('Enter any string:')\n",
    "p = input('Enter any pattern:')\n",
    "#function call\n",
    "final_result = isMatch(s, p)\n",
    "#printing the result\n",
    "print(result)"
   ]
  },
  {
   "cell_type": "code",
   "execution_count": 22,
   "id": "8771eef4",
   "metadata": {},
   "outputs": [
    {
     "name": "stdout",
     "output_type": "stream",
     "text": [
      "The single number in a list that doesn't occur twice is =  4\n"
     ]
    }
   ],
   "source": [
    "# Write a Python program to find the single element in a list where every element appears multiple times except for one.\n",
    "# Input : [5, 3, 4, 3, 5, 5, 3],\n",
    "# Output : 4\n",
    "#defining a function repeat_value with parameter num\n",
    "def repeat_value(num):\n",
    "#iterating each element i in the list of num using for loop\n",
    "    for i in num:\n",
    "#counting the occurance of the number in the list\n",
    "        if num.count(i) == 1:\n",
    "            return i\n",
    "#assigning the input values       \n",
    "input_values = [5, 3, 4, 3, 5, 5, 3]\n",
    "#calling the function\n",
    "final = repeat_value(input_values)\n",
    "#displaying the final value\n",
    "print(\"The single number in a list that doesn't occur twice is = \", final)\n",
    "        "
   ]
  },
  {
   "cell_type": "code",
   "execution_count": 31,
   "id": "6cff6fab",
   "metadata": {},
   "outputs": [
    {
     "name": "stdout",
     "output_type": "stream",
     "text": [
      "Enter any number you want a square root 25\n",
      "The square root of your given num is 5\n"
     ]
    }
   ],
   "source": [
    "# Write a Python program to compute and return the square root of a given 'integer'. \n",
    "# Input : 16\n",
    "# Output : 4\n",
    "# Note : The returned value will be an 'integer', do not use square root functions from python.\n",
    "\n",
    "def square_root(x):\n",
    "    if x < 0:\n",
    "        raise valueError(\"Input value is negative\")\n",
    "    final_value = int(x ** 0.5)\n",
    "    return final_value\n",
    "\n",
    "num = int(input('Enter any number you want a square root '))\n",
    "p = square_root(num)\n",
    "print(\"The square root of your given num is\",p)"
   ]
  },
  {
   "cell_type": "code",
   "execution_count": 37,
   "id": "5d73265a",
   "metadata": {},
   "outputs": [
    {
     "name": "stdout",
     "output_type": "stream",
     "text": [
      "True\n"
     ]
    }
   ],
   "source": [
    "# Write a Python program to check a sequence of numbers is a geometric progression or not. \n",
    "# Input : [2, 6, 18, 54]\n",
    "# Output : True\n",
    "\n",
    "def check_geo(num):\n",
    "    if len(num)<= 1:\n",
    "        return False\n",
    "    ratio = num[1]/float(num[0])\n",
    "    for i in range (1,len(num)):\n",
    "        if num[i]/float(num[i-1])!=ratio:\n",
    "            return False\n",
    "    return True\n",
    "final_value = \n",
    "print(check_geo([2, 6, 18, 54]))\n"
   ]
  },
  {
   "cell_type": "code",
   "execution_count": null,
   "id": "0c9015be",
   "metadata": {},
   "outputs": [],
   "source": []
  }
 ],
 "metadata": {
  "kernelspec": {
   "display_name": "Python 3 (ipykernel)",
   "language": "python",
   "name": "python3"
  },
  "language_info": {
   "codemirror_mode": {
    "name": "ipython",
    "version": 3
   },
   "file_extension": ".py",
   "mimetype": "text/x-python",
   "name": "python",
   "nbconvert_exporter": "python",
   "pygments_lexer": "ipython3",
   "version": "3.9.13"
  }
 },
 "nbformat": 4,
 "nbformat_minor": 5
}
